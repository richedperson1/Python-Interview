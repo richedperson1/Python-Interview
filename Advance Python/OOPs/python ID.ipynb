{
 "cells": [
  {
   "cell_type": "code",
   "execution_count": 10,
   "metadata": {},
   "outputs": [
    {
     "name": "stdout",
     "output_type": "stream",
     "text": [
      "2713791684672\n"
     ]
    }
   ],
   "source": [
    "class idCheck:\n",
    "    def __init__(self) -> None:\n",
    "        # print(self)\n",
    "        print(id(self))\n",
    "\n",
    "\n",
    "\n",
    "\n",
    "first = idCheck()"
   ]
  },
  {
   "cell_type": "code",
   "execution_count": 11,
   "metadata": {},
   "outputs": [
    {
     "name": "stdout",
     "output_type": "stream",
     "text": [
      "2713791684672\n"
     ]
    }
   ],
   "source": [
    "# print(first)\n",
    "print(id(first))"
   ]
  }
 ],
 "metadata": {
  "kernelspec": {
   "display_name": "Python 3",
   "language": "python",
   "name": "python3"
  },
  "language_info": {
   "codemirror_mode": {
    "name": "ipython",
    "version": 3
   },
   "file_extension": ".py",
   "mimetype": "text/x-python",
   "name": "python",
   "nbconvert_exporter": "python",
   "pygments_lexer": "ipython3",
   "version": "3.9.6"
  },
  "orig_nbformat": 4
 },
 "nbformat": 4,
 "nbformat_minor": 2
}
