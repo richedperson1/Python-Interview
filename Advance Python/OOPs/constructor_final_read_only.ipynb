{
 "cells": [
  {
   "cell_type": "code",
   "execution_count": 6,
   "metadata": {},
   "outputs": [
    {
     "data": {
      "text/plain": [
       "56"
      ]
     },
     "execution_count": 6,
     "metadata": {},
     "output_type": "execute_result"
    }
   ],
   "source": [
    "from typing import Final\n",
    "\n",
    "PI: Final[float] = 3.14159     # Cannot set PI to another value\n",
    "KM_IN_MILES: Final = 0.621371  # Type annotation is optional\n",
    "\n",
    "class Foo:\n",
    "    def __init__(self):\n",
    "        self.bar: Final = \"baz\"\n",
    "\n",
    "\n",
    "        \n",
    "obj = Foo()\n",
    "\n",
    "obj.bar = 56\n",
    "obj.bar"
   ]
  },
  {
   "cell_type": "code",
   "execution_count": 4,
   "metadata": {},
   "outputs": [
    {
     "data": {
      "text/plain": [
       "['a', 'b', 'x']"
      ]
     },
     "execution_count": 4,
     "metadata": {},
     "output_type": "execute_result"
    }
   ],
   "source": [
    "from typing import final,Final,Sequence\n",
    "\n",
    "y: Final[Sequence[str]] = ['a', 'b']\n",
    "y.append('x')\n",
    "\n",
    "y"
   ]
  },
  {
   "cell_type": "code",
   "execution_count": 18,
   "metadata": {},
   "outputs": [
    {
     "name": "stdout",
     "output_type": "stream",
     "text": [
      "data is 0\n",
      "data is 1\n",
      "data is 2\n",
      "data is 3\n",
      "data is 4\n",
      "data is 5\n",
      "data is 6\n",
      "data is 7\n",
      "data is 8\n",
      "data is 9\n",
      "printing data\n",
      " data is 0data is 1data is 2data is 3data is 4data is 5data is 6data is 7data is 8data is 9\n"
     ]
    }
   ],
   "source": [
    "import time\n",
    "class internal_open_ai_call:\n",
    "    def __streaming_response(self):\n",
    "        for data in range(10):\n",
    "            yield f\"data is {data}\"\n",
    "            \n",
    "    def get_streaming(self):\n",
    "        self.stream_data = \"\"\n",
    "        for data in self.__streaming_response():\n",
    "            yield data\n",
    "            self.stream_data+=data\n",
    "        \n",
    "        self.saving_db()\n",
    "    def saving_db(self):\n",
    "        \n",
    "        print(\"printing data\\n\",self.stream_data)\n",
    "        \n",
    "        \n",
    "        \n",
    "obj = internal_open_ai_call()\n",
    "\n",
    "for data in obj.get_streaming():\n",
    "    print(data)"
   ]
  },
  {
   "cell_type": "code",
   "execution_count": 19,
   "metadata": {},
   "outputs": [
    {
     "name": "stdout",
     "output_type": "stream",
     "text": [
      "data is 0\n",
      "data is 1\n",
      "data is 2\n",
      "data is 3\n",
      "data is 4\n",
      "data is 5\n",
      "data is 6\n",
      "data is 7\n",
      "data is 8\n",
      "data is 9\n",
      "printing data\n",
      " data is 0data is 1data is 2data is 3data is 4data is 5data is 6data is 7data is 8data is 9\n"
     ]
    }
   ],
   "source": [
    "import time\n",
    "class internal_open_ai_call:\n",
    "    def __streaming_response(self):\n",
    "        for data in range(10):\n",
    "            yield f\"data is {data}\"\n",
    "            \n",
    "    def get_streaming(self)->:\n",
    "        self.stream_data = \"\"\n",
    "        for data in self.__streaming_response():\n",
    "            yield data\n",
    "            self.stream_data+=data\n",
    "        \n",
    "        self.saving_db()\n",
    "    def saving_db(self):\n",
    "        \n",
    "        print(\"printing data\\n\",self.stream_data)\n",
    "        \n",
    "        \n",
    "        \n",
    "obj = internal_open_ai_call()\n",
    "\n",
    "for data in obj.get_streaming():\n",
    "    print(data)"
   ]
  },
  {
   "cell_type": "code",
   "execution_count": 15,
   "metadata": {},
   "outputs": [
    {
     "name": "stdout",
     "output_type": "stream",
     "text": [
      "Creating instance\n",
      "Init is called\n"
     ]
    },
    {
     "data": {
      "text/plain": [
       "<__main__.A at 0x227f2047f40>"
      ]
     },
     "execution_count": 15,
     "metadata": {},
     "output_type": "execute_result"
    }
   ],
   "source": [
    "class A: \n",
    "    def __new__(cls): \n",
    "         print(\"Creating instance\") \n",
    "         return super().__new__(cls) \n",
    "  \n",
    "    def __init__(self): \n",
    "        print(\"Init is called\") \n",
    "        \n",
    "A()"
   ]
  },
  {
   "cell_type": "code",
   "execution_count": 31,
   "metadata": {},
   "outputs": [],
   "source": [
    "class A: \n",
    "    emp = None\n",
    "    def __new__(cls):\n",
    "        if emp==None: \n",
    "            cls.emp = 1\n",
    "            print(\"Creating instance\") \n",
    "            return super().__new__(cls)\n",
    "        \n",
    "  \n",
    "    def __init__(self): \n",
    "        print(\"Init is called\") \n",
    "        self.first = 5\n",
    "        "
   ]
  },
  {
   "cell_type": "code",
   "execution_count": 36,
   "metadata": {},
   "outputs": [
    {
     "data": {
      "text/plain": [
       "{'first': 5}"
      ]
     },
     "execution_count": 36,
     "metadata": {},
     "output_type": "execute_result"
    }
   ],
   "source": [
    "emp.__dict__"
   ]
  },
  {
   "cell_type": "code",
   "execution_count": 39,
   "metadata": {},
   "outputs": [],
   "source": [
    "A()"
   ]
  }
 ],
 "metadata": {
  "kernelspec": {
   "display_name": "Python 3",
   "language": "python",
   "name": "python3"
  },
  "language_info": {
   "codemirror_mode": {
    "name": "ipython",
    "version": 3
   },
   "file_extension": ".py",
   "mimetype": "text/x-python",
   "name": "python",
   "nbconvert_exporter": "python",
   "pygments_lexer": "ipython3",
   "version": "3.8.19"
  }
 },
 "nbformat": 4,
 "nbformat_minor": 2
}
