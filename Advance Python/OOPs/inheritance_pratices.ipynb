{
 "cells": [
  {
   "cell_type": "code",
   "execution_count": null,
   "metadata": {},
   "outputs": [],
   "source": [
    "class parent:\n",
    "    a = 8\n",
    "    def __init__(self) -> None:\n",
    "        self.x = 5\n",
    "\n",
    "    def hellow(self):\n",
    "        return \"Hello world\"\n",
    "\n",
    "class child1(parent):\n",
    "    pass\n",
    "\n",
    "class child2(parent):\n",
    "    pass\n",
    "\n",
    "\n",
    "\n"
   ]
  },
  {
   "cell_type": "code",
   "execution_count": null,
   "metadata": {},
   "outputs": [],
   "source": [
    "class parent:\n",
    "    a = 8\n",
    "    def __init__(self):\n",
    "        self.x = 5\n",
    "\n",
    "    def hellow(self):\n",
    "        return \"Hello world\"\n",
    "\n",
    "class child1(parent):\n",
    "    pass\n",
    "\n",
    "class child2(parent):\n",
    "    pass\n",
    "\n",
    "def notFound(self):\n",
    "    return \"Hellow rodl is\"\n",
    "\n",
    "parent1 = parent()\n",
    "parent1.hellow = notFound\n",
    "\n",
    "\n",
    "\n",
    "parent1.hellow()"
   ]
  },
  {
   "cell_type": "code",
   "execution_count": null,
   "metadata": {},
   "outputs": [],
   "source": [
    "class parent:\n",
    "    a = 8\n",
    "    def __init__(self):\n",
    "        self.x = 5\n",
    "\n",
    "    def hellow(self):\n",
    "        return \"Hello world\"\n",
    "\n",
    "class child1(parent):\n",
    "    pass\n",
    "\n",
    "class child2(parent):\n",
    "    pass\n",
    "\n",
    "def notFound(self):\n",
    "    return \"Hellow rodl is\"\n",
    "\n",
    "parent1 = parent()\n",
    "parent1.hellow = notFound\n",
    "\n",
    "\n",
    "\n",
    "parent.hellow = notFound\n",
    "parent1.hellow()"
   ]
  },
  {
   "cell_type": "code",
   "execution_count": null,
   "metadata": {},
   "outputs": [],
   "source": [
    "class power:\n",
    "    def squareFun(self, num):\n",
    "        return(f\"The square of number is {num**2}\")\n",
    "\n",
    "\n",
    "def cube(self, num):\n",
    "    return(f\"The cube of number is {num**3}\")\n",
    "\n",
    "\n",
    "def cube2(self, num):\n",
    "    return(f\"The cube2 of number is {num**3+6}\")\n",
    "\n",
    "\n",
    "\"\"\"\n",
    "At run time we are changing function behaviour we are adding new function in the class \n",
    "It happen only in the python\n",
    "\"\"\"\n",
    "\n",
    "# obj.squareFun = cube\n",
    "power.squareFun = cube\n",
    "power.squareCube3 = cube2\n",
    "\n",
    "obj = power()\n",
    "\n",
    "# print(obj.squareCube3(2))\n",
    "\n",
    "\"\"\"\n",
    "Doing monkey patching using object of the class it wouldn't be affect the main class behaviour\n",
    "\"\"\"\n",
    "\n",
    "\n",
    "def objectFunction(num):\n",
    "    return \"Object function calling \"+str(num)\n",
    "\n",
    "\n",
    "# obj1 = power()\n",
    "\n",
    "# obj1.objFun = objectFunction\n",
    "\n",
    "# abc = obj1.objFun(5)\n",
    "# print(abc)\n",
    "\n",
    "# # objfun not availble for another object\n",
    "\n",
    "# obj2 = power()\n"
   ]
  },
  {
   "cell_type": "code",
   "execution_count": 5,
   "metadata": {},
   "outputs": [],
   "source": [
    "class parent:\n",
    "    a = 8\n",
    "    def __init__(self) -> None:\n",
    "        self.x = 5\n",
    "\n",
    "    def hellow(self):\n",
    "        return \"Hello world\"\n",
    "\n",
    "class child1(parent):\n",
    "    pass\n",
    "\n",
    "class child2(parent):\n",
    "    pass\n",
    "\n",
    "\n",
    "\n",
    "def notFound(self):\n",
    "    return \"Hello I'm not found function\"\n",
    "\n",
    "parent.hellow = notFound"
   ]
  },
  {
   "cell_type": "code",
   "execution_count": 3,
   "metadata": {},
   "outputs": [
    {
     "name": "stdout",
     "output_type": "stream",
     "text": [
      "heelo\n"
     ]
    }
   ],
   "source": [
    "print(\"heelo\")"
   ]
  },
  {
   "cell_type": "code",
   "execution_count": 25,
   "metadata": {},
   "outputs": [
    {
     "data": {
      "text/plain": [
       "{'value1': 'value1', 'value2': 'value2', 'value3': 'value3'}"
      ]
     },
     "execution_count": 25,
     "metadata": {},
     "output_type": "execute_result"
    }
   ],
   "source": [
    "class Parent1:\n",
    "    def __init__(self, value1):\n",
    "        self.value1 = value1\n",
    "\n",
    "class Parent2:\n",
    "    def __init__(self, value2):\n",
    "        self.value2 = value2\n",
    "\n",
    "class Child(Parent1, Parent2):\n",
    "    def __init__(self, value1, value2, value3):\n",
    "        Parent1.__init__(self,value1)\n",
    "        Parent2.__init__(self,value2) # This line doesn't work correctly\n",
    "        self.value3 = value3\n",
    "\n",
    "child = Child(\"value1\", \"value2\", \"value3\")\n",
    "\n",
    "child.__dict__"
   ]
  },
  {
   "cell_type": "code",
   "execution_count": 5,
   "metadata": {},
   "outputs": [
    {
     "ename": "TypeError",
     "evalue": "object.__init__() takes exactly one argument (the instance to initialize)",
     "output_type": "error",
     "traceback": [
      "\u001b[1;31m---------------------------------------------------------------------------\u001b[0m",
      "\u001b[1;31mTypeError\u001b[0m                                 Traceback (most recent call last)",
      "\u001b[1;32m~\\AppData\\Local\\Temp/ipykernel_12028/158989775.py\u001b[0m in \u001b[0;36m<module>\u001b[1;34m\u001b[0m\n\u001b[0;32m     21\u001b[0m \u001b[1;33m\u001b[0m\u001b[0m\n\u001b[0;32m     22\u001b[0m \u001b[1;31m# Create an instance of Child\u001b[0m\u001b[1;33m\u001b[0m\u001b[1;33m\u001b[0m\u001b[1;33m\u001b[0m\u001b[0m\n\u001b[1;32m---> 23\u001b[1;33m \u001b[0mchild\u001b[0m \u001b[1;33m=\u001b[0m \u001b[0mChild\u001b[0m\u001b[1;33m(\u001b[0m\u001b[1;34m\"A\"\u001b[0m\u001b[1;33m,\u001b[0m \u001b[1;34m\"B\"\u001b[0m\u001b[1;33m,\u001b[0m \u001b[1;34m\"C\"\u001b[0m\u001b[1;33m)\u001b[0m\u001b[1;33m\u001b[0m\u001b[1;33m\u001b[0m\u001b[0m\n\u001b[0m\u001b[0;32m     24\u001b[0m \u001b[0mchild\u001b[0m\u001b[1;33m.\u001b[0m\u001b[0m__dict__\u001b[0m\u001b[1;33m\u001b[0m\u001b[1;33m\u001b[0m\u001b[0m\n",
      "\u001b[1;32m~\\AppData\\Local\\Temp/ipykernel_12028/158989775.py\u001b[0m in \u001b[0;36m__init__\u001b[1;34m(self, value1, value2, value3)\u001b[0m\n\u001b[0;32m     12\u001b[0m \u001b[1;33m\u001b[0m\u001b[0m\n\u001b[0;32m     13\u001b[0m         \u001b[0msuper\u001b[0m\u001b[1;33m(\u001b[0m\u001b[0mParent1\u001b[0m\u001b[1;33m,\u001b[0m\u001b[0mself\u001b[0m\u001b[1;33m)\u001b[0m\u001b[1;33m.\u001b[0m\u001b[0m__init__\u001b[0m\u001b[1;33m(\u001b[0m\u001b[0mvalue1\u001b[0m\u001b[1;33m)\u001b[0m\u001b[1;33m\u001b[0m\u001b[1;33m\u001b[0m\u001b[0m\n\u001b[1;32m---> 14\u001b[1;33m         \u001b[0msuper\u001b[0m\u001b[1;33m(\u001b[0m\u001b[0mParent2\u001b[0m\u001b[1;33m,\u001b[0m\u001b[0mself\u001b[0m\u001b[1;33m)\u001b[0m\u001b[1;33m.\u001b[0m\u001b[0m__init__\u001b[0m\u001b[1;33m(\u001b[0m\u001b[0mvalue2\u001b[0m\u001b[1;33m)\u001b[0m\u001b[1;33m\u001b[0m\u001b[1;33m\u001b[0m\u001b[0m\n\u001b[0m\u001b[0;32m     15\u001b[0m         \u001b[0mself\u001b[0m\u001b[1;33m.\u001b[0m\u001b[0mvalue3\u001b[0m \u001b[1;33m=\u001b[0m \u001b[0mvalue3\u001b[0m\u001b[1;33m\u001b[0m\u001b[1;33m\u001b[0m\u001b[0m\n\u001b[0;32m     16\u001b[0m \u001b[1;33m\u001b[0m\u001b[0m\n",
      "\u001b[1;31mTypeError\u001b[0m: object.__init__() takes exactly one argument (the instance to initialize)"
     ]
    }
   ],
   "source": [
    "class Parent1:\n",
    "    def __init__(self, value1):\n",
    "        self.value1 = value1\n",
    "\n",
    "class Parent2:\n",
    "    def __init__(self, value2):\n",
    "        self.value2 = value2\n",
    "\n",
    "class Child(Parent1, Parent2):\n",
    "    def __init__(self, value1, value2, value3):\n",
    "        # super(Parent1,self).__init__(value1)  # Call Parent1's constructor\n",
    "\n",
    "        super(Parent1,self).__init__(value1)\n",
    "        super(Parent2,self).__init__(value2)\n",
    "        self.value3 = value3\n",
    "\n",
    "    def print_values(self):\n",
    "        print(\"Value 1:\", self.value1)\n",
    "        print(\"Value 2:\", self.value2)\n",
    "        print(\"Value 3:\", self.value3)\n",
    "\n",
    "# Create an instance of Child\n",
    "child = Child(\"A\", \"B\", \"C\")\n",
    "child.__dict__"
   ]
  },
  {
   "cell_type": "code",
   "execution_count": 11,
   "metadata": {},
   "outputs": [
    {
     "data": {
      "text/plain": [
       "('Parent 2 is talking', 1)"
      ]
     },
     "execution_count": 11,
     "metadata": {},
     "output_type": "execute_result"
    }
   ],
   "source": [
    "class Parent1:\n",
    "    def __init__(self, value1):\n",
    "        self.value1 = value1\n",
    "\n",
    "    def talking2(self):\n",
    "        return \"Parent 2 is talking\",self.value1\n",
    "class Parent2:\n",
    "    def __init__(self, value2):\n",
    "        self.value2 = value2\n",
    "\n",
    "    def talking(self):\n",
    "        return \"Parent 2 is talking\",self.value2\n",
    "class Child(Parent1, Parent2):\n",
    "    def __init__(self, value1, value2, value3):\n",
    "        Parent1.__init__(self,value1)\n",
    "        Parent2.__init__(self,value2) # This line doesn't work correctly\n",
    "        self.value3 = value3\n",
    "\n",
    "child = Child(1,2,3)\n",
    "\n",
    "child.talking2()"
   ]
  }
 ],
 "metadata": {
  "kernelspec": {
   "display_name": "Python 3",
   "language": "python",
   "name": "python3"
  },
  "language_info": {
   "codemirror_mode": {
    "name": "ipython",
    "version": 3
   },
   "file_extension": ".py",
   "mimetype": "text/x-python",
   "name": "python",
   "nbconvert_exporter": "python",
   "pygments_lexer": "ipython3",
   "version": "3.9.6"
  },
  "orig_nbformat": 4
 },
 "nbformat": 4,
 "nbformat_minor": 2
}
