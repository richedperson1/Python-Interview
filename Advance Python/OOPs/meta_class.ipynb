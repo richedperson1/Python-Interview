{
 "cells": [
  {
   "cell_type": "code",
   "execution_count": 2,
   "metadata": {},
   "outputs": [
    {
     "name": "stdout",
     "output_type": "stream",
     "text": [
      "<class '__main__.A'>\n",
      "<class 'type'>\n"
     ]
    }
   ],
   "source": [
    "class A:\n",
    "    pass\n",
    "\n",
    "obj  = A()\n",
    "\n",
    "print(type(obj))\n",
    "print(type(A))"
   ]
  },
  {
   "cell_type": "code",
   "execution_count": 12,
   "metadata": {},
   "outputs": [
    {
     "name": "stdout",
     "output_type": "stream",
     "text": [
      "__main__\n"
     ]
    }
   ],
   "source": [
    "print(__name__)"
   ]
  },
  {
   "cell_type": "code",
   "execution_count": 5,
   "metadata": {},
   "outputs": [
    {
     "name": "stdout",
     "output_type": "stream",
     "text": [
      "<function fucntion at 0x00000208AF4594C0>\n",
      "None\n"
     ]
    }
   ],
   "source": [
    "def fucntion():\n",
    "    ...\n",
    "    \n",
    "    \n",
    "print(fucntion)\n",
    "print(fucntion())"
   ]
  },
  {
   "cell_type": "code",
   "execution_count": 14,
   "metadata": {},
   "outputs": [],
   "source": [
    "from typing  import *\n",
    "class Solution:\n",
    "    def Paths(self, root : Optional['Node']) -> List[List[int]]:\n",
    "        # code here\n",
    "        self.result = []\n",
    "        \n",
    "        def dfs(root,local):\n",
    "            \n",
    "            if not root:\n",
    "                self.result.append(local)\n",
    "                return \n",
    "            \n",
    "            dfs(root.left,local+[root.data])\n",
    "            dfs(root.right,local+[root.data])\n",
    "            \n"
   ]
  },
  {
   "cell_type": "code",
   "execution_count": 9,
   "metadata": {},
   "outputs": [
    {
     "name": "stdout",
     "output_type": "stream",
     "text": [
      "namespace ====>  {'__module__': '__main__', '__qualname__': 'Base1', 'some_important_func': <function Base1.some_important_func at 0x00000294C0D03A60>, 'rutvik_jaiswal': <function Base1.rutvik_jaiswal at 0x00000294C0D03DC0>}\n",
      "bases ====>  ()\n",
      "name ====>  Base1\n",
      "mcs ====>  <class '__main__.M'>\n",
      "kwargs ====>  {}\n"
     ]
    }
   ],
   "source": [
    "class M(type):\n",
    "    def __new__(mcs, name, bases, namespace, **kwargs):\n",
    "        # namespace contains all the attributes defined in the class including\n",
    "        # variables, methods and module it was defined in.\n",
    "        print(\"namespace ====> \",namespace)\n",
    "        print(\"bases ====> \",bases)\n",
    "        print(\"name ====> \",name)\n",
    "        print(\"mcs ====> \",mcs)\n",
    "        print(\"kwargs ====> \",kwargs)\n",
    "\n",
    "        if \"some_important_func\" not in namespace:\n",
    "            raise NotImplementedError(\"some_important_func has to be implemented in subclasses of this function\")\n",
    "        return super(M, mcs).__new__(mcs, name, bases, namespace, **kwargs)\n",
    "\n",
    "\n",
    "class Base1(metaclass=M):\n",
    "    def some_important_func(self):\n",
    "        pass\n",
    "    def rutvik_jaiswal(self):\n",
    "        pass\n",
    "    \n"
   ]
  },
  {
   "cell_type": "code",
   "execution_count": 25,
   "metadata": {},
   "outputs": [
    {
     "name": "stdout",
     "output_type": "stream",
     "text": [
      "types.FunctionType :  dict_items([('__module__', '__main__'), ('__qualname__', 'Fruit'), ('__init__', <function Fruit.__init__ at 0x00000294C0D03D30>), ('get_price', <function Fruit.get_price at 0x00000294C0D03EE0>)])\n"
     ]
    }
   ],
   "source": [
    "import inspect\n",
    "import types\n",
    "\n",
    "class MetaClass(type):\n",
    "    def __new__(mcs, name, bases, namespace, **kwargs):\n",
    "        # print(\"types.FunctionType : \",types.FunctionType,namespace.items())\n",
    "        for attr, value in namespace.items():\n",
    "            if type(value) is types.FunctionType:\n",
    "                for param_key,param_val in inspect.signature(value).parameters.items():\n",
    "                    print(param_key,param_val)\n",
    "                    if param_key not in (\"self\", \"cls\") and param_val.annotation == inspect._empty:\n",
    "                        # raising exception\n",
    "                        raise Exception(f\"Class: {name} doesn't have annotations for method: {attr}\")\n",
    "        return super().__new__(mcs, name, bases, namespace)\n",
    "\n",
    "# class Base(metaclass=MetaClass):\n",
    "#     pass\n",
    "\n",
    "class Fruit(Base):\n",
    "    def __init__(self, name: str, price: float): #This will pass the annotation check\n",
    "        self.name = name\n",
    "        self.price = price\n",
    "\n",
    "    def get_price(self, count:int=1): # this will raise exception because count doesn't have type annotation\n",
    "        return count * self.price"
   ]
  },
  {
   "cell_type": "code",
   "execution_count": 5,
   "metadata": {},
   "outputs": [
    {
     "name": "stdout",
     "output_type": "stream",
     "text": [
      "this is called  self  <====>  <class 'inspect._empty'>\n",
      "this is called  name  <====>  <class 'str'>\n",
      "this is called  price  <====>  <class 'float'>\n",
      "this is called  self  <====>  <class 'inspect._empty'>\n",
      "this is called  count  <====>  <class 'int'>\n"
     ]
    }
   ],
   "source": [
    "import inspect\n",
    "import types\n",
    "\n",
    "class MetaClass(type):\n",
    "    def __new__(mcs, name, bases, namespace, **kwargs):\n",
    "        # print(\"types.FunctionType : \",types.FunctionType,namespace.items())\n",
    "        for attr, value in namespace.items():\n",
    "            if type(value) is types.FunctionType:\n",
    "                for param_key,param_val in inspect.signature(value).parameters.items():\n",
    "                    print(\"this is called \",param_key,\" <====> \",param_val.annotation)\n",
    "                    if param_key not in (\"self\", \"cls\") and param_val.annotation == inspect._empty:\n",
    "                        # raising exception\n",
    "                        raise Exception(f\"Class: {name} doesn't have annotations for method: {attr}\")\n",
    "        return super().__new__(mcs, name, bases, namespace)\n",
    "\n",
    "class Base(metaclass=MetaClass):\n",
    "    pass\n",
    "\n",
    "class Fruit(Base):\n",
    "    def __init__(self, name: str, price: float): #This will pass the annotation check\n",
    "        self.name = name\n",
    "        self.price = price\n",
    "\n",
    "    def get_price(self, count:int=1): # this will raise exception because count doesn't have type annotation\n",
    "        return count * self.price"
   ]
  },
  {
   "cell_type": "code",
   "execution_count": 2,
   "metadata": {},
   "outputs": [
    {
     "name": "stdout",
     "output_type": "stream",
     "text": [
      "hello\n"
     ]
    }
   ],
   "source": [
    "print(\"hello\")"
   ]
  },
  {
   "cell_type": "code",
   "execution_count": 1,
   "metadata": {},
   "outputs": [
    {
     "name": "stdout",
     "output_type": "stream",
     "text": [
      "Hello \n"
     ]
    }
   ],
   "source": [
    "class Potato:\n",
    "    def __init__(self, name):\n",
    "        self.name = name\n",
    "\n",
    "    def __str__(self):\n",
    "        return f\"Hi there! My name is {self.name}\"\n",
    "    \n",
    "    def __call__(self,*arg,**kwarg):\n",
    "        return \"Hello \"\n",
    "\n",
    "class PotatoType(type):\n",
    "    instance = None\n",
    "    def __call__(cls,*arg,**kwargs):\n",
    "        return Potato(\"Brown Potato\")\n",
    "\n",
    "    def __new__(cls, name, bases, namespace,*arg, **kwargs):\n",
    "        \n",
    "        if cls.instance:\n",
    "            return cls.instance\n",
    "        \n",
    "        cls.instance = super().__new__(cls, name, bases, namespace)\n",
    "        return Potato(\"Brown Potato\")\n",
    "# class Base(metaclass=PotatoType):\n",
    "#     pass\n",
    "\n",
    "class Person(metaclass=PotatoType):\n",
    "    def __init__(self, name, age):\n",
    "        self.name = name\n",
    "        self.age = age\n",
    "\n",
    "\n",
    "\n",
    "p = Person(\"Diwash\", 24) # returns a potato object\n",
    "\n",
    "print(p)\n"
   ]
  },
  {
   "cell_type": "code",
   "execution_count": null,
   "metadata": {},
   "outputs": [],
   "source": [
    "class Potato:\n",
    "    def __init__(self, name):\n",
    "        self.name = name\n",
    "\n",
    "    def __str__(self):\n",
    "        return f\"Hi there! My name is {self.name}\"\n",
    "    \n",
    "    def __call__(self,*arg,**kwarg):\n",
    "        return \"Hello \"\n",
    "\n",
    "class PotatoType(type):\n",
    "    instance = None\n",
    "    \n",
    "    def __call__(cls,*arg,**kwargs):\n",
    "        return Potato(\"Brown Potato\")\n",
    "\n",
    "    def __new__(cls, name, bases, namespace,*arg, **kwargs):\n",
    "        print(\"*arg, **kwargs : \",arg,kwargs)\n",
    "        if cls.instance:\n",
    "            return cls.instance\n",
    "        cls.instance = super().__new__(cls, name, bases, namespace)\n",
    "        return cls.instance\n",
    "\n",
    "class Person(metaclass=PotatoType):\n",
    "    def __init__(self, name, age):\n",
    "        self.name = name\n",
    "        self.age = age\n",
    "\n",
    "\n",
    "\n",
    "p = Person(\"Diwash\", 24) # returns a potato object\n",
    "\n",
    "print(p)\n"
   ]
  }
 ],
 "metadata": {
  "kernelspec": {
   "display_name": "Python 3",
   "language": "python",
   "name": "python3"
  },
  "language_info": {
   "codemirror_mode": {
    "name": "ipython",
    "version": 3
   },
   "file_extension": ".py",
   "mimetype": "text/x-python",
   "name": "python",
   "nbconvert_exporter": "python",
   "pygments_lexer": "ipython3",
   "version": "3.8.19"
  }
 },
 "nbformat": 4,
 "nbformat_minor": 2
}
