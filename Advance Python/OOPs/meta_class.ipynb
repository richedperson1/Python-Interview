{
 "cells": [
  {
   "cell_type": "code",
   "execution_count": 2,
   "metadata": {},
   "outputs": [
    {
     "name": "stdout",
     "output_type": "stream",
     "text": [
      "<class '__main__.A'>\n",
      "<class 'type'>\n"
     ]
    }
   ],
   "source": [
    "class A:\n",
    "    pass\n",
    "\n",
    "obj  = A()\n",
    "\n",
    "print(type(obj))\n",
    "print(type(A))"
   ]
  },
  {
   "cell_type": "code",
   "execution_count": 12,
   "metadata": {},
   "outputs": [
    {
     "name": "stdout",
     "output_type": "stream",
     "text": [
      "__main__\n"
     ]
    }
   ],
   "source": [
    "print(__name__)"
   ]
  },
  {
   "cell_type": "code",
   "execution_count": 5,
   "metadata": {},
   "outputs": [
    {
     "name": "stdout",
     "output_type": "stream",
     "text": [
      "<function fucntion at 0x00000208AF4594C0>\n",
      "None\n"
     ]
    }
   ],
   "source": [
    "def fucntion():\n",
    "    ...\n",
    "    \n",
    "    \n",
    "print(fucntion)\n",
    "print(fucntion())"
   ]
  },
  {
   "cell_type": "code",
   "execution_count": 14,
   "metadata": {},
   "outputs": [],
   "source": [
    "from typing  import *\n",
    "class Solution:\n",
    "    def Paths(self, root : Optional['Node']) -> List[List[int]]:\n",
    "        # code here\n",
    "        self.result = []\n",
    "        \n",
    "        def dfs(root,local):\n",
    "            \n",
    "            if not root:\n",
    "                self.result.append(local)\n",
    "                return \n",
    "            \n",
    "            dfs(root.left,local+[root.data])\n",
    "            dfs(root.right,local+[root.data])\n",
    "            \n"
   ]
  }
 ],
 "metadata": {
  "kernelspec": {
   "display_name": "Python 3",
   "language": "python",
   "name": "python3"
  },
  "language_info": {
   "codemirror_mode": {
    "name": "ipython",
    "version": 3
   },
   "file_extension": ".py",
   "mimetype": "text/x-python",
   "name": "python",
   "nbconvert_exporter": "python",
   "pygments_lexer": "ipython3",
   "version": "3.8.19"
  }
 },
 "nbformat": 4,
 "nbformat_minor": 2
}
