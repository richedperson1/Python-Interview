{
 "cells": [
  {
   "cell_type": "code",
   "execution_count": null,
   "metadata": {},
   "outputs": [],
   "source": [
    "\n",
    "print(\"hello\")"
   ]
  },
  {
   "cell_type": "code",
   "execution_count": null,
   "metadata": {},
   "outputs": [],
   "source": [
    "\n",
    "class singletone:\n",
    "    \n",
    "    _instance = None\n",
    "    \n",
    "    def __new__(cls,first,second):\n",
    "        if cls._instance:\n",
    "            return cls._instance\n",
    "        \n",
    "        cls._instance = super().__new__(cls)\n",
    "        \n",
    "        return cls._instance\n",
    "    \n",
    "    def __init__(self,first,second):\n",
    "        self.first = first\n",
    "        self.second= second\n",
    "        \n",
    "    \n",
    "    \n"
   ]
  },
  {
   "cell_type": "code",
   "execution_count": null,
   "metadata": {},
   "outputs": [],
   "source": [
    "class Singleton:\n",
    "    _instance = None\n",
    "\n",
    "    def __new__(cls, *args, **kwargs):\n",
    "        if cls._instance is None:\n",
    "            cls._instance = super(Singleton, cls).__new__(cls)\n",
    "        return cls._instance\n",
    "\n",
    "    def __init__(self, value):\n",
    "        if not hasattr(self, 'initialized'):\n",
    "            self.value = value\n",
    "            self.initialized = True\n",
    "\n",
    "# Usage\n",
    "singleton1 = Singleton(\"First Instance\")\n",
    "singleton2 = Singleton(\"Second Instance\")\n",
    "\n",
    "print(singleton1.value)  # Output: First Instance\n",
    "print(singleton2.value)  # Output: First Instance\n"
   ]
  },
  {
   "cell_type": "code",
   "execution_count": null,
   "metadata": {},
   "outputs": [],
   "source": [
    "\n",
    "class preprocess:\n",
    "    def __init__(self):\n",
    "        self.dict = {}\n",
    "        \n",
    "    def register_process(self,key,val):\n",
    "        self.dict[key] = val\n",
    "        \n",
    "    def process(self,key,*args,kwargs):\n",
    "        self.dict[key].execute(*args,**kwargs)\n",
    "        \n",
    "        \n",
    "\n",
    "class "
   ]
  },
  {
   "cell_type": "code",
   "execution_count": 17,
   "metadata": {},
   "outputs": [
    {
     "name": "stdout",
     "output_type": "stream",
     "text": [
      "value is called 12\n",
      "value is called 14\n"
     ]
    }
   ],
   "source": [
    "class singletone:\n",
    "    _instance = None\n",
    "    def __new__(cls,*args,**kwargs):\n",
    "        if cls._instance==None:\n",
    "            cls._instance = super().__new__(cls)\n",
    "        return cls._instance      \n",
    "    \n",
    "    def __init__(self,value): \n",
    "        self.value = value\n",
    "        print(\"value is called\",self.value)\n",
    "        \n",
    "obj1 = singletone(12)\n",
    "obj2 = singletone(14)"
   ]
  },
  {
   "cell_type": "code",
   "execution_count": null,
   "metadata": {},
   "outputs": [],
   "source": [
    "class Singleton:\n",
    "    _instance = None\n",
    "    \n",
    "    def __new__(cls, *args, **kwargs):\n",
    "        if not cls._instance:\n",
    "            cls._instance = super().__new__(cls)\n",
    "            cls._instance.__initialized = False\n",
    "        return cls._instance\n",
    "    \n",
    "    def __init__(self, value=None):\n",
    "        # if not self.__initialized:\n",
    "            self.value = value\n",
    "            self.__initialized = True\n",
    "\n",
    "\n"
   ]
  }
 ],
 "metadata": {
  "kernelspec": {
   "display_name": "Python 3",
   "language": "python",
   "name": "python3"
  },
  "language_info": {
   "codemirror_mode": {
    "name": "ipython",
    "version": 3
   },
   "file_extension": ".py",
   "mimetype": "text/x-python",
   "name": "python",
   "nbconvert_exporter": "python",
   "pygments_lexer": "ipython3",
   "version": "3.10.11"
  }
 },
 "nbformat": 4,
 "nbformat_minor": 2
}
