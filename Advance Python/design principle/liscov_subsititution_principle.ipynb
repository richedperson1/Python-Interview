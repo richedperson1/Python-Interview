{
 "cells": [
  {
   "cell_type": "code",
   "execution_count": 1,
   "metadata": {},
   "outputs": [],
   "source": [
    "\n",
    "## Before liscov subsititution principle inheritance\n",
    "from abc import ABC,abstractmethod\n",
    "class kitchen_applinces(ABC):\n",
    "    @abstractmethod\n",
    "    def turn_on():\n",
    "        pass\n",
    "    \n",
    "    @abstractmethod   \n",
    "    def turn_off():\n",
    "        pass\n",
    " \n",
    "    @abstractmethod   \n",
    "    def set_temp():\n",
    "        pass\n",
    "    \n",
    "\n",
    "class toaster(kitchen_applinces):\n",
    "    def turn_on():\n",
    "        # logic to turn on the toaster\n",
    "        pass\n",
    "    \n",
    "    def turn_off():\n",
    "        # Logic to turn off the toaster\n",
    "        pass\n",
    "    def set_temp():\n",
    "        # Logic to set the temp of the toaster\n",
    "        pass\n",
    "    \n",
    "\n",
    "class juicers(kitchen_applinces):\n",
    "    def turn_on():\n",
    "        # logic to turn on the juicers\n",
    "        pass\n",
    "    \n",
    "    def turn_off():\n",
    "        # Logic to turn off the juicers\n",
    "        pass\n",
    "\n",
    "\n"
   ]
  },
  {
   "cell_type": "code",
   "execution_count": 2,
   "metadata": {},
   "outputs": [
    {
     "ename": "TypeError",
     "evalue": "Can't instantiate abstract class juicers with abstract methods set_temp",
     "output_type": "error",
     "traceback": [
      "\u001b[1;31m---------------------------------------------------------------------------\u001b[0m",
      "\u001b[1;31mTypeError\u001b[0m                                 Traceback (most recent call last)",
      "Cell \u001b[1;32mIn[2], line 1\u001b[0m\n\u001b[1;32m----> 1\u001b[0m juicer_obj \u001b[38;5;241m=\u001b[39m \u001b[43mjuicers\u001b[49m\u001b[43m(\u001b[49m\u001b[43m)\u001b[49m\n",
      "\u001b[1;31mTypeError\u001b[0m: Can't instantiate abstract class juicers with abstract methods set_temp"
     ]
    }
   ],
   "source": [
    "juicer_obj = juicers()"
   ]
  },
  {
   "cell_type": "markdown",
   "metadata": {},
   "source": [
    "### Note\n",
    "- In above class of inheritance we see that kitchen_applinces is base class where juicers and toaster is the child class \n",
    "- Look carefully you can't able to create the juicers class because it does'nt container set_temp() function. which make sense also juicers not need that function at first place\n",
    "\n",
    "- And to overcome this problem we have liscov substitution principle"
   ]
  },
  {
   "cell_type": "code",
   "execution_count": 7,
   "metadata": {},
   "outputs": [],
   "source": [
    "\n",
    "## after liscov subsititution principle inheritance\n",
    "\n",
    "class kitchen_applinces(ABC):\n",
    "    @abstractmethod\n",
    "    def turn_on():\n",
    "        pass\n",
    "    \n",
    "    @abstractmethod   \n",
    "    def turn_off():\n",
    "        pass\n",
    "\n",
    "    \n",
    "class kitchen_applinces_with_temp(kitchen_applinces):\n",
    "    @abstractmethod   \n",
    "    def set_temp():\n",
    "        pass  \n",
    "    \n",
    "class toaster(kitchen_applinces_with_temp):\n",
    "    def turn_on():\n",
    "        # logic to turn on the toaster\n",
    "        pass\n",
    "    \n",
    "    def turn_off():\n",
    "        # Logic to turn off the toaster\n",
    "        pass\n",
    "    def set_temp():\n",
    "        # Logic to set the temp of the toaster\n",
    "        pass\n",
    "    \n",
    "\n",
    "class juicers(kitchen_applinces):\n",
    "    def turn_on():\n",
    "        # logic to turn on the juicers\n",
    "        pass\n",
    "    \n",
    "    def turn_off():\n",
    "        # Logic to turn off the juicers\n",
    "        pass\n",
    "\n",
    "\n",
    "toaster_obj = toaster()"
   ]
  },
  {
   "cell_type": "code",
   "execution_count": 5,
   "metadata": {},
   "outputs": [],
   "source": [
    "juicers_obj = juicers()"
   ]
  }
 ],
 "metadata": {
  "kernelspec": {
   "display_name": "Python 3",
   "language": "python",
   "name": "python3"
  },
  "language_info": {
   "codemirror_mode": {
    "name": "ipython",
    "version": 3
   },
   "file_extension": ".py",
   "mimetype": "text/x-python",
   "name": "python",
   "nbconvert_exporter": "python",
   "pygments_lexer": "ipython3",
   "version": "3.8.19"
  }
 },
 "nbformat": 4,
 "nbformat_minor": 2
}
