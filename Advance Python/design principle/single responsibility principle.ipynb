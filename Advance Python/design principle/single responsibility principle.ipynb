{
 "cells": [
  {
   "cell_type": "code",
   "execution_count": 4,
   "metadata": {},
   "outputs": [],
   "source": [
    "\n",
    "# In below code all functionality are in the same class\n",
    "# To follow the Single responsibility principle we have to make sure that each class will do single task only\n",
    "class employee:\n",
    "    def employee_details(self):\n",
    "        return \"Here is emp details\"\n",
    "    \n",
    "    def calculate_salary(self):\n",
    "        return \"Here is emp salary\"\n",
    "    \n",
    "    def employee_hire(self):\n",
    "        return \"Here is emp hire\"\n",
    "    \n",
    "    def evaluate_employee(self):\n",
    "        return \"Here is emp evaluations\"\n",
    "    \n",
    "# drawback\n",
    "# 1. tightly coupled\n",
    "# 2. one actor made change in anything affect other as well"
   ]
  },
  {
   "cell_type": "markdown",
   "metadata": {},
   "source": [
    "## Single responsibility principle"
   ]
  },
  {
   "cell_type": "code",
   "execution_count": 14,
   "metadata": {},
   "outputs": [
    {
     "name": "stdout",
     "output_type": "stream",
     "text": [
      "44.166666666666664\n",
      "1\n"
     ]
    }
   ],
   "source": [
    "class employee_info:\n",
    "    def __init__(self,name,emp_id):\n",
    "        self.employee_name = name\n",
    "        self.emp_id = emp_id\n",
    "        \n",
    "\n",
    "class salary_info:\n",
    "    def calculate_salary(self,emp_obj):\n",
    "        \"\"\"\n",
    "        salary logic for employee \n",
    "        \"\"\"\n",
    "        \n",
    "        return (emp_obj.emp_id*10+5)/6\n",
    "\n",
    "class evaluating_emp:\n",
    "    def employee_rating(self,emp_obj):\n",
    "        \"\"\"\n",
    "        evaluating logic for employee \n",
    "        \"\"\"\n",
    "        \n",
    "        return (emp_obj.emp_id+5)%10\n",
    "\n",
    "class hiring_resource:\n",
    "    def new_hire(self,emp_obj):\n",
    "        \"\"\"\n",
    "        hiring logic for employee \n",
    "        \"\"\"\n",
    "        \n",
    "        return f\"{emp_obj.employee_name} is good resouce\"\n",
    "    \n",
    "    \n",
    "    \n",
    "ramesh = employee_info(\"ramesh\",26)\n",
    "\n",
    "finance_dept = salary_info()\n",
    "print(finance_dept.calculate_salary(ramesh))\n",
    "\n",
    "manager_dept = evaluating_emp()\n",
    "\n",
    "print(manager_dept.employee_rating(ramesh))\n"
   ]
  }
 ],
 "metadata": {
  "kernelspec": {
   "display_name": "Python 3",
   "language": "python",
   "name": "python3"
  },
  "language_info": {
   "codemirror_mode": {
    "name": "ipython",
    "version": 3
   },
   "file_extension": ".py",
   "mimetype": "text/x-python",
   "name": "python",
   "nbconvert_exporter": "python",
   "pygments_lexer": "ipython3",
   "version": "3.8.19"
  }
 },
 "nbformat": 4,
 "nbformat_minor": 2
}
