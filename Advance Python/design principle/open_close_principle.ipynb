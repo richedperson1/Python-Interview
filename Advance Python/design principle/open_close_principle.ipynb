{
 "cells": [
  {
   "cell_type": "code",
   "execution_count": null,
   "metadata": {},
   "outputs": [],
   "source": []
  },
  {
   "cell_type": "markdown",
   "metadata": {},
   "source": [
    "### Open Close principle\n",
    "\n",
    "- It taking about any software will be open for enhancement and close for existing code change"
   ]
  },
  {
   "cell_type": "code",
   "execution_count": 7,
   "metadata": {},
   "outputs": [],
   "source": [
    "from abc import ABC,abstractmethod\n",
    "\n",
    "class animal_requirements(ABC):\n",
    "    @abstractmethod\n",
    "    def feed(self):\n",
    "        pass\n",
    "    \n",
    "\n",
    "class dog_class(animal_requirements):\n",
    "    def feed(self):\n",
    "        print(\"feeding the dog\")\n",
    "\n",
    "class cat_class(animal_requirements):\n",
    "    def feed(self):\n",
    "        print(\"feeding the cat\")\n",
    "\n",
    "\n",
    "class chicken_class(animal_requirements):\n",
    "    def feed(self):\n",
    "        print(\"feeding the chicken\")\n",
    "\n",
    "\n"
   ]
  },
  {
   "cell_type": "code",
   "execution_count": 8,
   "metadata": {},
   "outputs": [],
   "source": [
    "class feed_animal:\n",
    "    def feeding(self,animal_obj):\n",
    "        animal_obj.feed()\n",
    "    \n",
    "animal_feeding = feed_animal()\n",
    "\n",
    "cat_obj = cat_class()\n",
    "dog_obj = dog_class()\n",
    "\n",
    "animal_feeding.feeding(cat_obj)\n",
    "animal_feeding.feeding(dog_obj)    "
   ]
  },
  {
   "cell_type": "markdown",
   "metadata": {},
   "source": [
    "### Note\n",
    "- In above example, our code is that flexable that any other animal also come then it can able to handle those as well \n",
    "- feed animal class can able to handle this very well"
   ]
  }
 ],
 "metadata": {
  "kernelspec": {
   "display_name": "Python 3",
   "language": "python",
   "name": "python3"
  },
  "language_info": {
   "codemirror_mode": {
    "name": "ipython",
    "version": 3
   },
   "file_extension": ".py",
   "mimetype": "text/x-python",
   "name": "python",
   "nbconvert_exporter": "python",
   "pygments_lexer": "ipython3",
   "version": "3.8.19"
  }
 },
 "nbformat": 4,
 "nbformat_minor": 2
}
