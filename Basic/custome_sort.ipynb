{
 "cells": [
  {
   "attachments": {},
   "cell_type": "markdown",
   "metadata": {},
   "source": [
    "## How to sort objects using key in Python"
   ]
  },
  {
   "attachments": {},
   "cell_type": "markdown",
   "metadata": {},
   "source": [
    "### Sort array"
   ]
  },
  {
   "cell_type": "code",
   "execution_count": 2,
   "metadata": {},
   "outputs": [
    {
     "data": {
      "text/plain": [
       "['abc12', 'abc18', 'abc8', 'abc9']"
      ]
     },
     "execution_count": 2,
     "metadata": {},
     "output_type": "execute_result"
    }
   ],
   "source": [
    "arr = [\"abc12\",\"abc9\",\"abc18\",\"abc8\"]\n",
    "\n",
    "# It will sorted according to dictionar order for string\n",
    "newArr = sorted(arr)\n",
    "newArr"
   ]
  },
  {
   "cell_type": "code",
   "execution_count": 4,
   "metadata": {},
   "outputs": [
    {
     "data": {
      "text/plain": [
       "['abc8', 'abc9', 'abc12', 'abc18']"
      ]
     },
     "execution_count": 4,
     "metadata": {},
     "output_type": "execute_result"
    }
   ],
   "source": [
    "\"\"\"\n",
    "How to sort array using string after number\n",
    "Ex.\n",
    "\n",
    "sorting is like : \n",
    "\n",
    "abc8 -> abc9 -> abc12 -> abc18\n",
    "\n",
    "\"\"\"\n",
    "\n",
    "# we have custome sorting mechanism was present by following\n",
    "\n",
    "def customeSort(string):\n",
    "    return int(string[3:])\n",
    "\n",
    "sortedArr1 = sorted(arr,key=customeSort)\n",
    "sortedArr1"
   ]
  },
  {
   "attachments": {},
   "cell_type": "markdown",
   "metadata": {},
   "source": [
    "### Dictionary sorting"
   ]
  },
  {
   "cell_type": "code",
   "execution_count": 6,
   "metadata": {},
   "outputs": [
    {
     "data": {
      "text/plain": [
       "['x', 'y', 'z']"
      ]
     },
     "execution_count": 6,
     "metadata": {},
     "output_type": "execute_result"
    }
   ],
   "source": [
    "# We will get custome sorting on the array what about dictionart\n",
    "\n",
    "dist = {\n",
    "    \"x\":2,\n",
    "    \"y\":1,\n",
    "    \"z\":0\n",
    "}\n",
    "\n",
    "sorted(dist)\n"
   ]
  },
  {
   "cell_type": "code",
   "execution_count": 7,
   "metadata": {},
   "outputs": [
    {
     "data": {
      "text/plain": [
       "['z', 'y', 'x']"
      ]
     },
     "execution_count": 7,
     "metadata": {},
     "output_type": "execute_result"
    }
   ],
   "source": [
    "\"\"\"\n",
    "Let say we don't want dictionary to proceed according to the keys but we want according to the values\n",
    "\"\"\"\n",
    "\n",
    "dist = {\n",
    "    \"x\":2,\n",
    "    \"y\":1,\n",
    "    \"z\":0\n",
    "}\n",
    "\n",
    "\n",
    "newDict = sorted(dist,key= lambda x : dist[x])\n",
    "\n",
    "newDict"
   ]
  },
  {
   "attachments": {},
   "cell_type": "markdown",
   "metadata": {},
   "source": [
    "### sort class object with given value"
   ]
  },
  {
   "cell_type": "code",
   "execution_count": 3,
   "metadata": {},
   "outputs": [
    {
     "data": {
      "text/plain": [
       "[mark : 96 rollNum : 26 , mark : 95 rollNum : 27 , mark : 97 rollNum : 37 ]"
      ]
     },
     "execution_count": 3,
     "metadata": {},
     "output_type": "execute_result"
    }
   ],
   "source": [
    "class student:\n",
    "    def __init__(self,mark,rollNum) -> None:\n",
    "        self.mark = mark\n",
    "        self.rollNum = rollNum\n",
    "\n",
    "    def __repr__(self) -> str:\n",
    "        return f\"mark : {self.mark} rollNum : {self.rollNum} \"\n",
    "    \n",
    "\n",
    "Rutvik = student(96,26)\n",
    "khilu = student(95,27)\n",
    "gokul = student(97,37)\n",
    "\n",
    "classArr = [Rutvik,khilu,gokul]\n",
    "\n",
    "sorted(classArr,key=lambda x : x.rollNum)"
   ]
  },
  {
   "cell_type": "code",
   "execution_count": 13,
   "metadata": {},
   "outputs": [
    {
     "data": {
      "text/plain": [
       "[mark : 96 rollNum : 26 , mark : 95 rollNum : 27 , mark : 97 rollNum : 37 ]"
      ]
     },
     "execution_count": 13,
     "metadata": {},
     "output_type": "execute_result"
    }
   ],
   "source": [
    "\"\"\"\n",
    "Above code raise TypeError error which saying not able to compare two value\n",
    "\"\"\"\n",
    "\n",
    "sorted(classArr,key= lambda x : x.rollNum)"
   ]
  },
  {
   "cell_type": "code",
   "execution_count": 31,
   "metadata": {},
   "outputs": [
    {
     "name": "stdout",
     "output_type": "stream",
     "text": [
      "Before Sorted\n",
      "mark : 96 rollNum : 26 \n",
      "mark : 95 rollNum : 27 \n",
      "mark : 97 rollNum : 37 \n",
      "\n",
      "After Sorted\n",
      "mark : 95 rollNum : 27 \n",
      "mark : 96 rollNum : 26 \n",
      "mark : 97 rollNum : 37 \n"
     ]
    }
   ],
   "source": [
    "def printing(objs):\n",
    "    for obj in objs:\n",
    "        print(obj)\n",
    "\n",
    "print(\"Before Sorted\")\n",
    "printing(classArr)\n",
    "print(\"\\nAfter Sorted\")\n",
    "sortdClass = sorted(classArr,key = lambda x:x.mark)\n",
    "printing(sortdClass)\n"
   ]
  }
 ],
 "metadata": {
  "kernelspec": {
   "display_name": "Python 3",
   "language": "python",
   "name": "python3"
  },
  "language_info": {
   "codemirror_mode": {
    "name": "ipython",
    "version": 3
   },
   "file_extension": ".py",
   "mimetype": "text/x-python",
   "name": "python",
   "nbconvert_exporter": "python",
   "pygments_lexer": "ipython3",
   "version": "3.9.6"
  },
  "orig_nbformat": 4
 },
 "nbformat": 4,
 "nbformat_minor": 2
}
